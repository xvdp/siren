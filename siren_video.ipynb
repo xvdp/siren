{
  "nbformat": 4,
  "nbformat_minor": 0,
  "metadata": {
    "colab": {
      "name": "siren_video.ipynb",
      "provenance": [],
      "collapsed_sections": [],
      "authorship_tag": "ABX9TyPN0oIaegXX9+C8ljnCnaHX",
      "include_colab_link": true
    },
    "kernelspec": {
      "name": "python3",
      "display_name": "Python 3"
    },
    "language_info": {
      "name": "python"
    },
    "accelerator": "GPU"
  },
  "cells": [
    {
      "cell_type": "markdown",
      "metadata": {
        "id": "view-in-github",
        "colab_type": "text"
      },
      "source": [
        "<a href=\"https://colab.research.google.com/github/xvdp/siren/blob/x_dev/siren_video.ipynb\" target=\"_parent\"><img src=\"https://colab.research.google.com/assets/colab-badge.svg\" alt=\"Open In Colab\"/></a>"
      ]
    },
    {
      "cell_type": "markdown",
      "metadata": {
        "id": "XPcStNVh5oMW"
      },
      "source": [
        "# Siren Video stress test\n",
        "\n",
        "paper mentions Supplementary Info pg. 16\n",
        "\"The Adam optimizer with a learning rate of1×10−4was used for all experi-ments. We set the batch size to fill the memory of the GPUs (roughly 160,000)\"\n",
        "\"We train the videos for 100,000 iterations, requiring approximately 15 hours.\"\n",
        "\n",
        "\n",
        "Batch size will depend on GPU availability\n",
        "this branch \n",
        "\n"
      ]
    },
    {
      "cell_type": "code",
      "metadata": {
        "colab": {
          "base_uri": "https://localhost:8080/"
        },
        "id": "tcgfVsjw9XLY",
        "outputId": "438fc733-d97a-4075-d508-49552c04b824"
      },
      "source": [
        "!pip install git+https://github.com/xvdp/vidi.git\n",
        "!rm -rf siren/\n",
        "!git clone -b x_dev https://github.com/xvdp/siren.git"
      ],
      "execution_count": 1,
      "outputs": [
        {
          "output_type": "stream",
          "text": [
            "Collecting git+https://github.com/xvdp/vidi.git\n",
            "  Cloning https://github.com/xvdp/vidi.git to /tmp/pip-req-build-nofj6fan\n",
            "  Running command git clone -q https://github.com/xvdp/vidi.git /tmp/pip-req-build-nofj6fan\n",
            "Requirement already satisfied (use --upgrade to upgrade): vidi==0.1 from git+https://github.com/xvdp/vidi.git in /usr/local/lib/python3.7/dist-packages\n",
            "Requirement already satisfied: numpy in /usr/local/lib/python3.7/dist-packages (from vidi==0.1) (1.19.5)\n",
            "Building wheels for collected packages: vidi\n",
            "  Building wheel for vidi (setup.py) ... \u001b[?25l\u001b[?25hdone\n",
            "  Created wheel for vidi: filename=vidi-0.1-cp37-none-any.whl size=25732 sha256=9bab229687b556d11fa120dec4ea8761555b1d3d575d737c385b9ec32cc8a2bc\n",
            "  Stored in directory: /tmp/pip-ephem-wheel-cache-7u7ik90c/wheels/eb/af/bf/d3d553233ac4ba8401e2c03425734897d87fcb779db2b27f14\n",
            "Successfully built vidi\n",
            "Cloning into 'siren'...\n",
            "remote: Enumerating objects: 290, done.\u001b[K\n",
            "remote: Counting objects: 100% (97/97), done.\u001b[K\n",
            "remote: Compressing objects: 100% (69/69), done.\u001b[K\n",
            "remote: Total 290 (delta 55), reused 61 (delta 27), pack-reused 193\u001b[K\n",
            "Receiving objects: 100% (290/290), 10.61 MiB | 16.84 MiB/s, done.\n",
            "Resolving deltas: 100% (122/122), done.\n"
          ],
          "name": "stdout"
        }
      ]
    },
    {
      "cell_type": "code",
      "metadata": {
        "id": "rAs7krUR-Vp5"
      },
      "source": [
        "import os\n",
        "import os.path as osp\n",
        "import yaml\n",
        "import torch\n",
        "os.chdir(\"siren\")\n",
        "import x_utils\n",
        "import x_dataio\n",
        "import x_modules\n",
        "from x_training import train, _continue, load_last_checkpoint, _prevent_overwrite"
      ],
      "execution_count": 2,
      "outputs": []
    },
    {
      "cell_type": "markdown",
      "metadata": {
        "id": "y85WrjaiH8bB"
      },
      "source": [
        "## check available GPU and CPU"
      ]
    },
    {
      "cell_type": "code",
      "metadata": {
        "colab": {
          "base_uri": "https://localhost:8080/"
        },
        "id": "1q9EhyzL-ozn",
        "outputId": "85658d1b-2c94-47e1-f694-fc2cd0d11bb5"
      },
      "source": [
        "x_utils.GPUse(), x_utils.CPUse()"
      ],
      "execution_count": 3,
      "outputs": [
        {
          "output_type": "execute_result",
          "data": {
            "text/plain": [
              "(GPU: ({'total': 15109, 'used': 0, 'available': 15109, 'percent': 0.0, 'units': 'MB'}),\n",
              " CPU: ({'total': 12993, 'used': 782, 'available': 12057, 'percent': 7.2, 'units': 'MB'}))"
            ]
          },
          "metadata": {
            "tags": []
          },
          "execution_count": 3
        }
      ]
    },
    {
      "cell_type": "markdown",
      "metadata": {
        "id": "0YGtG8I7IDZf"
      },
      "source": [
        "## download cat video\n",
        "from https://drive.google.com/drive/u/0/folders/1_iq__37-hw7FJOEUK1tX7mdp8SKB368K"
      ]
    },
    {
      "cell_type": "code",
      "metadata": {
        "colab": {
          "base_uri": "https://localhost:8080/"
        },
        "id": "_iBwwA_F-LlF",
        "outputId": "1aed52f8-6a7a-474b-c199-87821ba0e170"
      },
      "source": [
        "#https://drive.google.com/file/d/1ZCr6HTrNu8f6T-nyIbToYXHMOKU88f7P/view?usp=sharing\n",
        "!gdown --id 1ZCr6HTrNu8f6T-nyIbToYXHMOKU88f7P "
      ],
      "execution_count": 4,
      "outputs": [
        {
          "output_type": "stream",
          "text": [
            "Downloading...\n",
            "From: https://drive.google.com/uc?id=1ZCr6HTrNu8f6T-nyIbToYXHMOKU88f7P\n",
            "To: /content/siren/cat_video.mp4\n",
            "4.49MB [00:00, 21.1MB/s]\n"
          ],
          "name": "stdout"
        }
      ]
    },
    {
      "cell_type": "code",
      "metadata": {
        "id": "taAcFIEQHvDK"
      },
      "source": [
        "os.rename(\"cat_video.mp4\", \"data/cat_video.mp4\")"
      ],
      "execution_count": 5,
      "outputs": []
    },
    {
      "cell_type": "markdown",
      "metadata": {
        "id": "12SEj6nNLM1L"
      },
      "source": [
        "## connect gdrive to colab and redirect logging root"
      ]
    },
    {
      "cell_type": "code",
      "metadata": {
        "colab": {
          "base_uri": "https://localhost:8080/"
        },
        "id": "2b_XOVAG5gy9",
        "outputId": "266109ce-34b3-42d7-c40f-e97f282cd900"
      },
      "source": [
        "from google.colab import drive\n",
        "drive_dir = '/content/gdrive'\n",
        "drive.mount(drive_dir)"
      ],
      "execution_count": 6,
      "outputs": [
        {
          "output_type": "stream",
          "text": [
            "Drive already mounted at /content/gdrive; to attempt to forcibly remount, call drive.mount(\"/content/gdrive\", force_remount=True).\n"
          ],
          "name": "stdout"
        }
      ]
    },
    {
      "cell_type": "code",
      "metadata": {
        "colab": {
          "base_uri": "https://localhost:8080/"
        },
        "id": "50xuc1NLM_8O",
        "outputId": "6da0fe09-53eb-494c-88fc-08d687c304b0"
      },
      "source": [
        "logging_root = \"/content/gdrive/MyDrive/siren\"\n",
        "os.makedirs(logging_root, exist_ok=True)\n",
        "osp.isdir(logging_root)"
      ],
      "execution_count": 7,
      "outputs": [
        {
          "output_type": "execute_result",
          "data": {
            "text/plain": [
              "True"
            ]
          },
          "metadata": {
            "tags": []
          },
          "execution_count": 7
        }
      ]
    },
    {
      "cell_type": "code",
      "metadata": {
        "id": "oD5kS7kbKI2-"
      },
      "source": [
        "# Easy_Dict is a dictionary accessible as object ( not pypi EasyDict )\n",
        "config_file = \"x_periment_scripts/cat_s-1_100k.yml\"\n",
        "with open(config_file, \"r\") as _fi:\n",
        "    opt = x_utils.EasyDict(yaml.load(_fi,)) # Loader=yaml.FullLoader "
      ],
      "execution_count": 8,
      "outputs": []
    },
    {
      "cell_type": "code",
      "metadata": {
        "colab": {
          "base_uri": "https://localhost:8080/"
        },
        "id": "uZgrnvp7KKpd",
        "outputId": "2f25d19f-be59-4813-c2f9-99732c372695"
      },
      "source": [
        "opt.logging_root = logging_root\n",
        "config_file = \"_colab\".join(osp.splitext(config_file))\n",
        "opt.to_yaml(config_file)\n",
        "print(opt.logging_root, config_file, osp.isfile(config_file))"
      ],
      "execution_count": 9,
      "outputs": [
        {
          "output_type": "stream",
          "text": [
            "/content/gdrive/MyDrive/siren x_periment_scripts/cat_s-1_100k_colab.yml True\n"
          ],
          "name": "stdout"
        }
      ]
    },
    {
      "cell_type": "markdown",
      "metadata": {
        "id": "kfiO5Qp-OoqA"
      },
      "source": [
        "### training options differ from main branch: containing:\n",
        "* model definition\n",
        "* strategy  [-1] original, fully random single sample per epoch\n",
        " [1] complete set of non repeating samples per epoch [2] grided sampling, dense and sparse : original strategy works best\n",
        "* sample_frac: None, is estimated from GPU available\n",
        "* sample_size: estimated below\n"
      ]
    },
    {
      "cell_type": "code",
      "metadata": {
        "id": "7yOdoWVnQ4v0"
      },
      "source": [
        "gpus = x_utils.GPUse()\n",
        "# sample size is multiplied * 2 over the estimate, probably gradient operations over latents are optimized\n",
        "# ergo single operations (sin, +, *) do not save full new latent gradient \n",
        "opt.sample_size = x_utils.estimate_samples(gpus.available, **opt[\"siren\"])*2 \n",
        "opt.epochs_til_checkpoint = 5000 # lower epochs till checkpoint, just in case, colab may boot us out"
      ],
      "execution_count": 10,
      "outputs": []
    },
    {
      "cell_type": "code",
      "metadata": {
        "colab": {
          "base_uri": "https://localhost:8080/"
        },
        "id": "JSbvTpC9OPEv",
        "outputId": "ada4f4d3-befb-4845-dcf7-15066e17a97b"
      },
      "source": [
        "opt"
      ],
      "execution_count": 11,
      "outputs": [
        {
          "output_type": "execute_result",
          "data": {
            "text/plain": [
              "{'batch_size': 1,\n",
              " 'checkpoint_path': None,\n",
              " 'data_path': './data/cat_video.mp4',\n",
              " 'epochs_til_checkpoint': 5000,\n",
              " 'experiment_name': 'cat_s-1_100k',\n",
              " 'frame_range': None,\n",
              " 'logging_root': '/content/gdrive/MyDrive/siren',\n",
              " 'lr': 0.0001,\n",
              " 'model_type': 'sine',\n",
              " 'num_epochs': 100000,\n",
              " 'num_steps': 100000,\n",
              " 'sample_frac': None,\n",
              " 'sample_size': 321482,\n",
              " 'shuffle': 1,\n",
              " 'siren': {'first_omega_0': 30,\n",
              "  'hidden_features': 1024,\n",
              "  'hidden_layers': 3,\n",
              "  'hidden_omega_0': 30.0,\n",
              "  'in_features': 3,\n",
              "  'out_features': 3,\n",
              "  'outermost_linear': True},\n",
              " 'steps_til_summary': 1,\n",
              " 'strategy': -1,\n",
              " 'train_type': 'video',\n",
              " 'verbose': 1}"
            ]
          },
          "metadata": {
            "tags": []
          },
          "execution_count": 11
        }
      ]
    },
    {
      "cell_type": "markdown",
      "metadata": {
        "id": "BGFP3-YhRL5z"
      },
      "source": [
        "## in this instance, sample_size is estimated at 321,480 float32\n",
        "~2x the spec on the paper (160,000) \n",
        "\n",
        "**Does this mean that instead of 100k iterations similar loss will be reaches in 50k operations?**\n",
        "\n",
        "Running the same experiments with the other strategies demonstrates that the a uniform random sampling (i.e. original strategy, -1), has  nearly monotonic convergence whereas running randomly repeating grids (strategy 2) or, non repeating complete random samples over the data ( strategy 1), overfits some data. \n",
        "\n",
        "These experimients will not be run here but to test wsuffices to set opt.strategy = 1 or 2\n",
        "\n"
      ]
    },
    {
      "cell_type": "markdown",
      "metadata": {
        "id": "ecA-0JDAUrrk"
      },
      "source": [
        "# VideoDataset is modificiation over main branch.\n",
        "* Does not create m_grid then referenceit but finds grid pos from random index\n",
        "* different strategies. see x_dataio.VideoDataset"
      ]
    },
    {
      "cell_type": "code",
      "metadata": {
        "colab": {
          "base_uri": "https://localhost:8080/"
        },
        "id": "jJdypD4CUfFK",
        "outputId": "5c83d035-9b4d-4052-eb84-cc252a5ea686"
      },
      "source": [
        "dset = x_dataio.VideoDataset(opt.data_path, sample_size=opt.sample_size, frame_range=opt.frame_range, strategy=opt.strategy)"
      ],
      "execution_count": 12,
      "outputs": [
        {
          "output_type": "stream",
          "text": [
            "Siren: VideoDataset - INFO - Loaded data, sidelen: [300, 512, 512], channels 3\n",
            "Siren: VideoDataset - INFO -          => reshaped to: (78643200, 3)\n",
            "Siren: VideoDataset - INFO -  max sample_size, 321482, fraction, 0.0041\n",
            "Siren: VideoDataset - INFO -  strategy: -1, single sample per epoch\n"
          ],
          "name": "stderr"
        }
      ]
    },
    {
      "cell_type": "code",
      "metadata": {
        "id": "mUqjaPR-VSRr"
      },
      "source": [
        "dataloader = torch.utils.data.DataLoader(dset, shuffle=opt.shuffle, batch_size=1, pin_memory=True, num_workers=0)"
      ],
      "execution_count": 13,
      "outputs": []
    },
    {
      "cell_type": "markdown",
      "metadata": {
        "id": "kuSHorhBV0ii"
      },
      "source": [
        "## store training options to yaml"
      ]
    },
    {
      "cell_type": "code",
      "metadata": {
        "id": "CexsgjlyVqQ2"
      },
      "source": [
        "opt.sidelen = tuple(dset.data.shape[:-1])\n",
        "opt.chanels = dset.data.shape[-1]\n",
        "opt.sample_size = dset.sample_size\n",
        "opt.dset_len = len(dset)\n",
        "if \"num_steps\" not in opt:\n",
        "    opt.num_steps = None\n",
        "folder = osp.join(opt.logging_root, opt.experiment_name)\n",
        "opt.to_yaml(osp.join(folder, \"training_options.yml\"))"
      ],
      "execution_count": 14,
      "outputs": []
    },
    {
      "cell_type": "markdown",
      "metadata": {
        "id": "BUZhrPwbV6zh"
      },
      "source": [
        "## create model and run\n",
        "Siren used in this instance is simplified - meta nodes disabled"
      ]
    },
    {
      "cell_type": "code",
      "metadata": {
        "colab": {
          "base_uri": "https://localhost:8080/"
        },
        "id": "uq0lxdHeV_Im",
        "outputId": "ceb13d1d-2542-4f41-96c9-04d90c3f71e0"
      },
      "source": [
        "model = x_modules.Siren(**opt[\"siren\"])\n",
        "model.cuda()"
      ],
      "execution_count": 15,
      "outputs": [
        {
          "output_type": "execute_result",
          "data": {
            "text/plain": [
              "Siren(\n",
              "  (net): Sequential(\n",
              "    (0): SineLayer(\n",
              "      (linear): Linear(in_features=3, out_features=1024, bias=True)\n",
              "    )\n",
              "    (1): SineLayer(\n",
              "      (linear): Linear(in_features=1024, out_features=1024, bias=True)\n",
              "    )\n",
              "    (2): SineLayer(\n",
              "      (linear): Linear(in_features=1024, out_features=1024, bias=True)\n",
              "    )\n",
              "    (3): SineLayer(\n",
              "      (linear): Linear(in_features=1024, out_features=1024, bias=True)\n",
              "    )\n",
              "    (4): Linear(in_features=1024, out_features=3, bias=True)\n",
              "  )\n",
              ")"
            ]
          },
          "metadata": {
            "tags": []
          },
          "execution_count": 15
        }
      ]
    },
    {
      "cell_type": "code",
      "metadata": {
        "colab": {
          "base_uri": "https://localhost:8080/"
        },
        "id": "P1C1fmI0WT4A",
        "outputId": "5b17e682-f2fc-4193-a4d2-afa0a9dba30e"
      },
      "source": [
        "checkpoint = train(model, dataloader, opt.num_epochs, opt.lr, opt.epochs_til_checkpoint, folder, dataset=dset, num_steps=opt.num_steps, terminator={\"end\":\"\\n\"})"
      ],
      "execution_count": null,
      "outputs": [
        {
          "output_type": "stream",
          "text": [
            "The model directory /content/gdrive/MyDrive/siren/cat_s-1_100k exists. Overwrite? (y/n)y\n",
            "Epoch\tIter\tIterAll\ttGPU\tGPU\tCPU\tLoss\tTime\tTotal_Time\n",
            "0\t0\t0\t12622\t13706\t4157\t0.27\t0.82\t0\n",
            "1\t0\t1\t13878\t14962\t4158\t0.281\t1.34\t2\n",
            "2\t0\t2\t13878\t14962\t4158\t0.178\t1.52\t4\n",
            "3\t0\t3\t13878\t14962\t4159\t0.162\t1.6\t6\n",
            "4\t0\t4\t13878\t14962\t4159\t0.14\t1.66\t8\n",
            "5\t0\t5\t13878\t14962\t4158\t0.119\t1.7\t10\n",
            "6\t0\t6\t13878\t14962\t4159\t0.105\t1.72\t12\n",
            "7\t0\t7\t13878\t14962\t4158\t0.0961\t1.75\t13\n",
            "8\t0\t8\t13878\t14962\t4158\t0.0915\t1.76\t15\n",
            "9\t0\t9\t13878\t14962\t4158\t0.0878\t1.78\t17\n",
            "10\t0\t10\t13878\t14962\t4158\t0.0823\t1.79\t19\n",
            "11\t0\t11\t13878\t14962\t4159\t0.0774\t1.8\t21\n",
            "12\t0\t12\t13878\t14962\t4159\t0.0746\t1.81\t23\n",
            "13\t0\t13\t13878\t14962\t4158\t0.0697\t1.81\t25\n",
            "14\t0\t14\t13878\t14962\t4159\t0.0679\t1.82\t27\n",
            "15\t0\t15\t13878\t14962\t4159\t0.0652\t1.83\t29\n",
            "16\t0\t16\t13878\t14962\t4158\t0.0626\t1.84\t31\n",
            "17\t0\t17\t13878\t14962\t4160\t0.0602\t1.84\t33\n",
            "18\t0\t18\t13878\t14962\t4159\t0.0584\t1.85\t35\n",
            "19\t0\t19\t13878\t14962\t4158\t0.0567\t1.85\t37\n",
            "20\t0\t20\t13878\t14962\t4158\t0.0545\t1.85\t38\n",
            "21\t0\t21\t13878\t14962\t4159\t0.0534\t1.86\t40\n",
            "22\t0\t22\t13878\t14962\t4158\t0.0513\t1.86\t42\n",
            "23\t0\t23\t13878\t14962\t4159\t0.0499\t1.87\t44\n",
            "24\t0\t24\t13878\t14962\t4158\t0.0489\t1.87\t46\n",
            "25\t0\t25\t13878\t14962\t4158\t0.048\t1.87\t48\n",
            "26\t0\t26\t13878\t14962\t4158\t0.0471\t1.88\t50\n",
            "27\t0\t27\t13878\t14962\t4159\t0.0461\t1.88\t52\n",
            "28\t0\t28\t13878\t14962\t4159\t0.0451\t1.88\t54\n",
            "29\t0\t29\t13878\t14962\t4160\t0.0438\t1.89\t56\n",
            "30\t0\t30\t13878\t14962\t4159\t0.0433\t1.89\t58\n",
            "31\t0\t31\t13878\t14962\t4160\t0.0428\t1.89\t60\n",
            "32\t0\t32\t13878\t14962\t4159\t0.042\t1.89\t62\n",
            "33\t0\t33\t13878\t14962\t4159\t0.0414\t1.9\t64\n",
            "34\t0\t34\t13878\t14962\t4159\t0.0403\t1.9\t66\n"
          ],
          "name": "stdout"
        }
      ]
    }
  ]
}