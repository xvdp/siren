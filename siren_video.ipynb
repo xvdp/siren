{
  "nbformat": 4,
  "nbformat_minor": 0,
  "metadata": {
    "colab": {
      "name": "siren_video.ipynb",
      "provenance": [],
      "collapsed_sections": [],
      "authorship_tag": "ABX9TyP3zPLso6RUQF2Q5XNyU2cy",
      "include_colab_link": true
    },
    "kernelspec": {
      "name": "python3",
      "display_name": "Python 3"
    },
    "language_info": {
      "name": "python"
    },
    "accelerator": "GPU"
  },
  "cells": [
    {
      "cell_type": "markdown",
      "metadata": {
        "id": "view-in-github",
        "colab_type": "text"
      },
      "source": [
        "<a href=\"https://colab.research.google.com/github/xvdp/siren/blob/x_dev/siren_video.ipynb\" target=\"_parent\"><img src=\"https://colab.research.google.com/assets/colab-badge.svg\" alt=\"Open In Colab\"/></a>"
      ]
    },
    {
      "cell_type": "markdown",
      "metadata": {
        "id": "XPcStNVh5oMW"
      },
      "source": [
        "# Siren Video stress test\n",
        "\n",
        "paper mentions Supplementary Info pg. 16\n",
        "\"The Adam optimizer with a learning rate of1×10−4was used for all experi-ments. We set the batch size to fill the memory of the GPUs (roughly 160,000)\"\n",
        "\"We train the videos for 100,000 iterations, requiring approximately 15 hours.\"\n",
        "\n",
        "\n",
        "Batch size will depend on GPU availability\n",
        "this branch \n",
        "\n"
      ]
    },
    {
      "cell_type": "code",
      "metadata": {
        "colab": {
          "base_uri": "https://localhost:8080/"
        },
        "id": "tcgfVsjw9XLY",
        "outputId": "1028d1b1-e3ff-451c-f8e2-70c9633a164b"
      },
      "source": [
        "!pip install git+https://github.com/xvdp/vidi.git\n",
        "!rm -rf siren/\n",
        "!git clone -b x_dev https://github.com/xvdp/siren.git"
      ],
      "execution_count": 1,
      "outputs": [
        {
          "output_type": "stream",
          "text": [
            "Collecting git+https://github.com/xvdp/vidi.git\n",
            "  Cloning https://github.com/xvdp/vidi.git to /tmp/pip-req-build-wrxurjvi\n",
            "  Running command git clone -q https://github.com/xvdp/vidi.git /tmp/pip-req-build-wrxurjvi\n",
            "Requirement already satisfied (use --upgrade to upgrade): vidi==0.1 from git+https://github.com/xvdp/vidi.git in /usr/local/lib/python3.7/dist-packages\n",
            "Requirement already satisfied: numpy in /usr/local/lib/python3.7/dist-packages (from vidi==0.1) (1.19.5)\n",
            "Building wheels for collected packages: vidi\n",
            "  Building wheel for vidi (setup.py) ... \u001b[?25l\u001b[?25hdone\n",
            "  Created wheel for vidi: filename=vidi-0.1-cp37-none-any.whl size=25732 sha256=bbb73c23543b2ca25d0f64f88d829bc488f34cbfda8c49b250d6ad27b0ff9442\n",
            "  Stored in directory: /tmp/pip-ephem-wheel-cache-huf7vbar/wheels/eb/af/bf/d3d553233ac4ba8401e2c03425734897d87fcb779db2b27f14\n",
            "Successfully built vidi\n",
            "Cloning into 'siren'...\n",
            "remote: Enumerating objects: 283, done.\u001b[K\n",
            "remote: Counting objects: 100% (90/90), done.\u001b[K\n",
            "remote: Compressing objects: 100% (59/59), done.\u001b[K\n",
            "remote: Total 283 (delta 51), reused 63 (delta 30), pack-reused 193\u001b[K\n",
            "Receiving objects: 100% (283/283), 10.60 MiB | 1.14 MiB/s, done.\n",
            "Resolving deltas: 100% (118/118), done.\n"
          ],
          "name": "stdout"
        }
      ]
    },
    {
      "cell_type": "code",
      "metadata": {
        "id": "rAs7krUR-Vp5"
      },
      "source": [
        "import os\n",
        "import os.path as osp\n",
        "import yaml\n",
        "import torch\n",
        "os.chdir(\"siren\")\n",
        "import x_utils\n",
        "import x_dataio\n",
        "import x_modules\n",
        "from x_training import train, _continue, load_last_checkpoint, _prevent_overwrite"
      ],
      "execution_count": 2,
      "outputs": []
    },
    {
      "cell_type": "markdown",
      "metadata": {
        "id": "y85WrjaiH8bB"
      },
      "source": [
        "## check available GPU and CPU"
      ]
    },
    {
      "cell_type": "code",
      "metadata": {
        "colab": {
          "base_uri": "https://localhost:8080/"
        },
        "id": "1q9EhyzL-ozn",
        "outputId": "aad36ef5-e572-48c6-eaff-d7474e438ad0"
      },
      "source": [
        "x_utils.GPUse(), x_utils.CPUse()"
      ],
      "execution_count": 4,
      "outputs": [
        {
          "output_type": "execute_result",
          "data": {
            "text/plain": [
              "(GPU: ({'total': 15109, 'used': 0, 'available': 15109, 'percent': 0.0, 'units': 'MB'}),\n",
              " CPU: ({'total': 12993, 'used': 551, 'available': 12170, 'percent': 6.3, 'units': 'MB'}))"
            ]
          },
          "metadata": {
            "tags": []
          },
          "execution_count": 4
        }
      ]
    },
    {
      "cell_type": "markdown",
      "metadata": {
        "id": "0YGtG8I7IDZf"
      },
      "source": [
        "## download cat video"
      ]
    },
    {
      "cell_type": "code",
      "metadata": {
        "colab": {
          "base_uri": "https://localhost:8080/"
        },
        "id": "_iBwwA_F-LlF",
        "outputId": "41ad5873-0a69-48fd-8dff-073bc1c8b346"
      },
      "source": [
        "#https://drive.google.com/file/d/1ZCr6HTrNu8f6T-nyIbToYXHMOKU88f7P/view?usp=sharing\n",
        "!gdown --id 1ZCr6HTrNu8f6T-nyIbToYXHMOKU88f7P "
      ],
      "execution_count": 11,
      "outputs": [
        {
          "output_type": "stream",
          "text": [
            "Downloading...\n",
            "From: https://drive.google.com/uc?id=1ZCr6HTrNu8f6T-nyIbToYXHMOKU88f7P\n",
            "To: /content/siren/cat_video.mp4\n",
            "\r0.00B [00:00, ?B/s]\r4.49MB [00:00, 23.8MB/s]\n"
          ],
          "name": "stdout"
        }
      ]
    },
    {
      "cell_type": "code",
      "metadata": {
        "id": "taAcFIEQHvDK"
      },
      "source": [
        "os.rename(\"cat_video.mp4\", \"data/cat_video.mp4\")"
      ],
      "execution_count": 13,
      "outputs": []
    },
    {
      "cell_type": "code",
      "metadata": {
        "id": "6sZfbGWcWn4V"
      },
      "source": [
        "# # show video deos nto seem to work\n",
        "# from IPython.display import HTML\n",
        "# from base64 import b64encode\n",
        "# mp4 = open(\"data/cat_video.mp4\",'rb').read()\n",
        "# data_url = \"data:video/mp4;base64,\" + b64encode(mp4).decode()\n",
        "# HTML(\"\"\"\n",
        "# <video width=512 height=512 controls>\n",
        "#       <source src=\"%s\" type=\"video/mp4\">\n",
        "# </video>\n",
        "# \"\"\" % data_url)"
      ],
      "execution_count": null,
      "outputs": []
    },
    {
      "cell_type": "markdown",
      "metadata": {
        "id": "12SEj6nNLM1L"
      },
      "source": [
        "## connect gdrive to colab and redirect logging root"
      ]
    },
    {
      "cell_type": "code",
      "metadata": {
        "colab": {
          "base_uri": "https://localhost:8080/"
        },
        "id": "2b_XOVAG5gy9",
        "outputId": "adc0342e-0262-413d-eee5-b2930fab7e39"
      },
      "source": [
        "from google.colab import drive\n",
        "drive_dir = '/content/gdrive'\n",
        "drive.mount(drive_dir)"
      ],
      "execution_count": 28,
      "outputs": [
        {
          "output_type": "stream",
          "text": [
            "Mounted at /content/gdrive\n"
          ],
          "name": "stdout"
        }
      ]
    },
    {
      "cell_type": "code",
      "metadata": {
        "colab": {
          "base_uri": "https://localhost:8080/"
        },
        "id": "50xuc1NLM_8O",
        "outputId": "71829899-a74f-4b23-8bb4-a2317594571f"
      },
      "source": [
        "logging_root = \"/content/gdrive/MyDrive/siren\"\n",
        "os.makedirs(logging_root, exist_ok=True)\n",
        "osp.isdir(logging_root)"
      ],
      "execution_count": 35,
      "outputs": [
        {
          "output_type": "execute_result",
          "data": {
            "text/plain": [
              "True"
            ]
          },
          "metadata": {
            "tags": []
          },
          "execution_count": 35
        }
      ]
    },
    {
      "cell_type": "code",
      "metadata": {
        "id": "oD5kS7kbKI2-"
      },
      "source": [
        "# Easy_Dict is a dictionary accessible as object ( not pypi EasyDict )\n",
        "config_file = \"x_periment_scripts/cat_s-1_100k.yml\"\n",
        "with open(config_file, \"r\") as _fi:\n",
        "    opt = x_utils.EasyDict(yaml.load(_fi,)) # Loader=yaml.FullLoader "
      ],
      "execution_count": 40,
      "outputs": []
    },
    {
      "cell_type": "code",
      "metadata": {
        "colab": {
          "base_uri": "https://localhost:8080/"
        },
        "id": "uZgrnvp7KKpd",
        "outputId": "388eee0f-4cc5-4ff5-eb74-f981532b3606"
      },
      "source": [
        "opt.logging_root = logging_root\n",
        "config_file = \"_colab\".join(osp.splitext(config_file))\n",
        "opt.to_yaml(config_file)\n",
        "print(opt.logging_root, config_file, osp.isfile(config_file))"
      ],
      "execution_count": 41,
      "outputs": [
        {
          "output_type": "stream",
          "text": [
            "/content/gdrive/MyDrive/siren x_periment_scripts/cat_s-1_100k_colab.yml True\n"
          ],
          "name": "stdout"
        }
      ]
    },
    {
      "cell_type": "markdown",
      "metadata": {
        "id": "kfiO5Qp-OoqA"
      },
      "source": [
        "### training options differ from main branch: containing:\n",
        "* model definition\n",
        "* strategy  [-1] original, fully random single sample per epoch\n",
        " [1] complete set of non repeating samples per epoch [2] grided sampling, dense and sparse : original strategy works best\n",
        "* sample_frac: None, is estimated from GPU available\n",
        "* sample_size: estimated below\n"
      ]
    },
    {
      "cell_type": "code",
      "metadata": {
        "id": "7yOdoWVnQ4v0"
      },
      "source": [
        "gpus = x_utils.GPUse()\n",
        "# sample size is multiplied * 2 over the estimate, probably gradient operations over latents are optimized\n",
        "# ergo single operations (sin, +, *) do not save full new latent gradient \n",
        "opt.sample_size = x_utils.estimate_samples(gpus.available, **opt[\"siren\"])*2 \n",
        "opt.epochs_til_checkpoint = 5000 # lower epochs till checkpoint, just in case, colab may boot us out"
      ],
      "execution_count": 43,
      "outputs": []
    },
    {
      "cell_type": "code",
      "metadata": {
        "colab": {
          "base_uri": "https://localhost:8080/"
        },
        "id": "JSbvTpC9OPEv",
        "outputId": "0fe15974-e050-43ef-9ce5-b2f00ebcd6f2"
      },
      "source": [
        "opt"
      ],
      "execution_count": 46,
      "outputs": [
        {
          "output_type": "execute_result",
          "data": {
            "text/plain": [
              "{'batch_size': 1,\n",
              " 'checkpoint_path': None,\n",
              " 'data_path': './data/cat_video.mp4',\n",
              " 'epochs_til_checkpoint': 5000,\n",
              " 'experiment_name': 'cat_s-1_100k',\n",
              " 'frame_range': None,\n",
              " 'logging_root': '/content/gdrive/MyDrive/siren',\n",
              " 'lr': 0.0001,\n",
              " 'model_type': 'sine',\n",
              " 'num_epochs': 100000,\n",
              " 'num_steps': 100000,\n",
              " 'sample_frac': None,\n",
              " 'sample_size': 321482,\n",
              " 'shuffle': 1,\n",
              " 'siren': {'first_omega_0': 30,\n",
              "  'hidden_features': 1024,\n",
              "  'hidden_layers': 3,\n",
              "  'hidden_omega_0': 30.0,\n",
              "  'in_features': 3,\n",
              "  'out_features': 3,\n",
              "  'outermost_linear': True},\n",
              " 'steps_til_summary': 1,\n",
              " 'strategy': -1,\n",
              " 'train_type': 'video',\n",
              " 'verbose': 1}"
            ]
          },
          "metadata": {
            "tags": []
          },
          "execution_count": 46
        }
      ]
    },
    {
      "cell_type": "markdown",
      "metadata": {
        "id": "BGFP3-YhRL5z"
      },
      "source": [
        "## in this instance, sample_size is estimated at 321,480 float32\n",
        "~2x the spec on the paper (160,000) \n",
        "\n",
        "**Does this mean that instead of 100k iterations similar loss will be reaches in 50k operations?**\n",
        "\n",
        "Running the same experiments with the other strategies demonstrates that the a uniform random sampling (i.e. original strategy, -1), has  nearly monotonic convergence whereas running randomly repeating grids (strategy 2) or, non repeating complete random samples over the data ( strategy 1), overfits some data. \n",
        "\n",
        "These experimients will not be run here but to test wsuffices to set opt.strategy = 1 or 2\n",
        "\n"
      ]
    },
    {
      "cell_type": "markdown",
      "metadata": {
        "id": "ecA-0JDAUrrk"
      },
      "source": [
        "# VideoDataset is modificiation over main branch.\n",
        "* Does not create m_grid then referenceit but finds grid pos from random index\n",
        "* different strategies. see x_dataio.VideoDataset"
      ]
    },
    {
      "cell_type": "code",
      "metadata": {
        "colab": {
          "base_uri": "https://localhost:8080/"
        },
        "id": "jJdypD4CUfFK",
        "outputId": "588c93fb-9942-4f87-949d-7d47452438e2"
      },
      "source": [
        "dset = x_dataio.VideoDataset(opt.data_path, sample_size=opt.sample_size, frame_range=opt.frame_range, strategy=opt.strategy)"
      ],
      "execution_count": 48,
      "outputs": [
        {
          "output_type": "stream",
          "text": [
            "Siren: VideoDataset - INFO - Loaded data, sidelen: [300, 512, 512], channels 3\n",
            "Siren: VideoDataset - INFO -          => reshaped to: (78643200, 3)\n",
            "Siren: VideoDataset - INFO -  max sample_size, 321482, fraction, 0.0041\n",
            "Siren: VideoDataset - INFO -  strategy: -1, single sample per epoch\n"
          ],
          "name": "stderr"
        }
      ]
    },
    {
      "cell_type": "code",
      "metadata": {
        "id": "mUqjaPR-VSRr"
      },
      "source": [
        "dataloader = torch.utils.data.DataLoader(dset, shuffle=opt.shuffle, batch_size=1, pin_memory=True, num_workers=0)"
      ],
      "execution_count": 49,
      "outputs": []
    },
    {
      "cell_type": "markdown",
      "metadata": {
        "id": "kuSHorhBV0ii"
      },
      "source": [
        "## store training options to yaml"
      ]
    },
    {
      "cell_type": "code",
      "metadata": {
        "id": "CexsgjlyVqQ2"
      },
      "source": [
        "opt.sidelen = tuple(dset.data.shape[:-1])\n",
        "opt.chanels = dset.data.shape[-1]\n",
        "opt.sample_size = dset.sample_size\n",
        "opt.dset_len = len(dset)\n",
        "if \"num_steps\" not in opt:\n",
        "    opt.num_steps = None\n",
        "folder = osp.join(opt.logging_root, opt.experiment_name)\n",
        "opt.to_yaml(osp.join(folder, \"training_options.yml\"))"
      ],
      "execution_count": 50,
      "outputs": []
    },
    {
      "cell_type": "markdown",
      "metadata": {
        "id": "BUZhrPwbV6zh"
      },
      "source": [
        "## create model and run\n",
        "Siren used in this instance is simplified - meta nodes disabled"
      ]
    },
    {
      "cell_type": "code",
      "metadata": {
        "colab": {
          "base_uri": "https://localhost:8080/"
        },
        "id": "uq0lxdHeV_Im",
        "outputId": "c0e13728-1814-4c42-b5a9-0d6c40fa4293"
      },
      "source": [
        "model = x_modules.Siren(**opt[\"siren\"])\n",
        "model.cuda()"
      ],
      "execution_count": 51,
      "outputs": [
        {
          "output_type": "execute_result",
          "data": {
            "text/plain": [
              "Siren(\n",
              "  (net): Sequential(\n",
              "    (0): SineLayer(\n",
              "      (linear): Linear(in_features=3, out_features=1024, bias=True)\n",
              "    )\n",
              "    (1): SineLayer(\n",
              "      (linear): Linear(in_features=1024, out_features=1024, bias=True)\n",
              "    )\n",
              "    (2): SineLayer(\n",
              "      (linear): Linear(in_features=1024, out_features=1024, bias=True)\n",
              "    )\n",
              "    (3): SineLayer(\n",
              "      (linear): Linear(in_features=1024, out_features=1024, bias=True)\n",
              "    )\n",
              "    (4): Linear(in_features=1024, out_features=3, bias=True)\n",
              "  )\n",
              ")"
            ]
          },
          "metadata": {
            "tags": []
          },
          "execution_count": 51
        }
      ]
    },
    {
      "cell_type": "code",
      "metadata": {
        "colab": {
          "base_uri": "https://localhost:8080/"
        },
        "id": "P1C1fmI0WT4A",
        "outputId": "728049be-2f2a-4d4e-a317-b2d37b54047a"
      },
      "source": [
        "checkpoint = train(model, dataloader, opt.num_epochs, opt.lr, opt.epochs_til_checkpoint, folder, dataset=dset, num_steps=opt.num_steps)"
      ],
      "execution_count": null,
      "outputs": [
        {
          "output_type": "stream",
          "text": [
            "The model directory /content/gdrive/MyDrive/siren/cat_s-1_100k exists. Overwrite? (y/n)y\n",
            "Epoch\tIter\tIterAll\ttGPU\tGPU\tCPU\tLoss\tTime\tTotal_Time\n"
          ],
          "name": "stdout"
        }
      ]
    }
  ]
}